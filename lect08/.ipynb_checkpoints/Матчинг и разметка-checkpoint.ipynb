{
 "cells": [
  {
   "cell_type": "code",
   "execution_count": 73,
   "id": "c9e16fc7",
   "metadata": {},
   "outputs": [],
   "source": [
    "import pandas as pd\n",
    "import numpy as np\n",
    "import matplotlib.pyplot as plt\n",
    "from tqdm import tqdm\n",
    "import duckdb"
   ]
  },
  {
   "cell_type": "code",
   "execution_count": 3,
   "id": "a796c592",
   "metadata": {},
   "outputs": [
    {
     "data": {
      "text/html": [
       "<div>\n",
       "<style scoped>\n",
       "    .dataframe tbody tr th:only-of-type {\n",
       "        vertical-align: middle;\n",
       "    }\n",
       "\n",
       "    .dataframe tbody tr th {\n",
       "        vertical-align: top;\n",
       "    }\n",
       "\n",
       "    .dataframe thead th {\n",
       "        text-align: right;\n",
       "    }\n",
       "</style>\n",
       "<table border=\"1\" class=\"dataframe\">\n",
       "  <thead>\n",
       "    <tr style=\"text-align: right;\">\n",
       "      <th></th>\n",
       "      <th>dt</th>\n",
       "      <th>group_id</th>\n",
       "      <th>parent_nm_id</th>\n",
       "      <th>duplicate_nm_id</th>\n",
       "      <th>bucket_id</th>\n",
       "      <th>executor_login</th>\n",
       "      <th>answer</th>\n",
       "      <th>comment</th>\n",
       "    </tr>\n",
       "  </thead>\n",
       "  <tbody>\n",
       "    <tr>\n",
       "      <th>0</th>\n",
       "      <td>2024-05-03</td>\n",
       "      <td>v1_2024-05-02</td>\n",
       "      <td>d32cb006dc6fe51a8711656978f2fd6d</td>\n",
       "      <td>b54983c6c3c93f0d6e1a1796115c868f</td>\n",
       "      <td>3,4,5</td>\n",
       "      <td>2e135b08d65255fc4c0386c0c471a0b3</td>\n",
       "      <td>Дубликаты</td>\n",
       "      <td>NaN</td>\n",
       "    </tr>\n",
       "    <tr>\n",
       "      <th>1</th>\n",
       "      <td>2024-05-03</td>\n",
       "      <td>v1_2024-05-02</td>\n",
       "      <td>d32cb006dc6fe51a8711656978f2fd6d</td>\n",
       "      <td>b54983c6c3c93f0d6e1a1796115c868f</td>\n",
       "      <td>3,4,5</td>\n",
       "      <td>f028c5ec87044b4b7c7670bea1780ae5</td>\n",
       "      <td>Дубликаты</td>\n",
       "      <td>NaN</td>\n",
       "    </tr>\n",
       "    <tr>\n",
       "      <th>2</th>\n",
       "      <td>2024-05-03</td>\n",
       "      <td>v1_2024-05-02</td>\n",
       "      <td>d32cb006dc6fe51a8711656978f2fd6d</td>\n",
       "      <td>b54983c6c3c93f0d6e1a1796115c868f</td>\n",
       "      <td>3,4,5</td>\n",
       "      <td>4242a2448d1e903afaa66da1c8a83390</td>\n",
       "      <td>Дубликаты</td>\n",
       "      <td>NaN</td>\n",
       "    </tr>\n",
       "    <tr>\n",
       "      <th>3</th>\n",
       "      <td>2024-05-03</td>\n",
       "      <td>v1_2024-05-02</td>\n",
       "      <td>9177fd909644e4466b81be0544afbe95</td>\n",
       "      <td>2cc66fc06ceddeb5a7355279c420fec7</td>\n",
       "      <td>1,2</td>\n",
       "      <td>34dceb77fd160d53131640504274a25b</td>\n",
       "      <td>Скип</td>\n",
       "      <td>NaN</td>\n",
       "    </tr>\n",
       "    <tr>\n",
       "      <th>4</th>\n",
       "      <td>2024-05-03</td>\n",
       "      <td>v1_2024-05-02</td>\n",
       "      <td>9177fd909644e4466b81be0544afbe95</td>\n",
       "      <td>2cc66fc06ceddeb5a7355279c420fec7</td>\n",
       "      <td>1,2</td>\n",
       "      <td>34dceb77fd160d53131640504274a25b</td>\n",
       "      <td>Дубликаты</td>\n",
       "      <td>NaN</td>\n",
       "    </tr>\n",
       "  </tbody>\n",
       "</table>\n",
       "</div>"
      ],
      "text/plain": [
       "           dt       group_id                      parent_nm_id  \\\n",
       "0  2024-05-03  v1_2024-05-02  d32cb006dc6fe51a8711656978f2fd6d   \n",
       "1  2024-05-03  v1_2024-05-02  d32cb006dc6fe51a8711656978f2fd6d   \n",
       "2  2024-05-03  v1_2024-05-02  d32cb006dc6fe51a8711656978f2fd6d   \n",
       "3  2024-05-03  v1_2024-05-02  9177fd909644e4466b81be0544afbe95   \n",
       "4  2024-05-03  v1_2024-05-02  9177fd909644e4466b81be0544afbe95   \n",
       "\n",
       "                    duplicate_nm_id bucket_id  \\\n",
       "0  b54983c6c3c93f0d6e1a1796115c868f     3,4,5   \n",
       "1  b54983c6c3c93f0d6e1a1796115c868f     3,4,5   \n",
       "2  b54983c6c3c93f0d6e1a1796115c868f     3,4,5   \n",
       "3  2cc66fc06ceddeb5a7355279c420fec7       1,2   \n",
       "4  2cc66fc06ceddeb5a7355279c420fec7       1,2   \n",
       "\n",
       "                     executor_login     answer comment  \n",
       "0  2e135b08d65255fc4c0386c0c471a0b3  Дубликаты     NaN  \n",
       "1  f028c5ec87044b4b7c7670bea1780ae5  Дубликаты     NaN  \n",
       "2  4242a2448d1e903afaa66da1c8a83390  Дубликаты     NaN  \n",
       "3  34dceb77fd160d53131640504274a25b       Скип     NaN  \n",
       "4  34dceb77fd160d53131640504274a25b  Дубликаты     NaN  "
      ]
     },
     "execution_count": 3,
     "metadata": {},
     "output_type": "execute_result"
    }
   ],
   "source": [
    "# открыли файл с разметками\n",
    "df = pd.read_csv('duplicates_matching.csv')\n",
    "df.head()"
   ]
  },
  {
   "cell_type": "code",
   "execution_count": 5,
   "id": "e5d92d06",
   "metadata": {},
   "outputs": [
    {
     "data": {
      "text/plain": [
       "array(['Дубликаты', 'Скип', 'Не дубликаты'], dtype=object)"
      ]
     },
     "execution_count": 5,
     "metadata": {},
     "output_type": "execute_result"
    }
   ],
   "source": [
    "#  Какие есть типы ответов\n",
    "df.answer.unique()"
   ]
  },
  {
   "cell_type": "code",
   "execution_count": 6,
   "id": "c4d33be7",
   "metadata": {},
   "outputs": [
    {
     "data": {
      "text/plain": [
       "(31859, 8)"
      ]
     },
     "execution_count": 6,
     "metadata": {},
     "output_type": "execute_result"
    }
   ],
   "source": [
    "# Скипы уберем\n",
    "df[df.answer!= 'Скип'].shape"
   ]
  },
  {
   "cell_type": "code",
   "execution_count": 12,
   "id": "a2ca1df5",
   "metadata": {},
   "outputs": [
    {
     "data": {
      "image/png": "[encoded data removed]",
      "text/plain": [
       "<Figure size 640x480 with 1 Axes>"
      ]
     },
     "metadata": {},
     "output_type": "display_data"
    }
   ],
   "source": [
    "# Доля дубликатов в разметке по дням\n",
    "\n",
    "q = '''\n",
    "SELECT dt, avg(duplicate_flg) as duplicate_ratio\n",
    "FROM (select dt,\n",
    "        parent_nm_id, duplicate_nm_id,\n",
    "        CASE WHEN count_if(answer = 'Дубликаты') >= 2 THEN 1\n",
    "            ELSE 0 END AS duplicate_flg\n",
    "    FROM df\n",
    "    group by dt, parent_nm_id, duplicate_nm_id\n",
    "    having count(distinct answer) != 3\n",
    "        and count_if(answer = 'Скип') < 2\n",
    "    ) as a\n",
    "GROUP BY dt\n",
    "ORDER BY dt\n",
    "'''\n",
    "\n",
    "\n",
    "_ = duckdb.query(q).to_df().plot(ylim = (0,1))"
   ]
  },
  {
   "cell_type": "markdown",
   "id": "ce03a9cc",
   "metadata": {},
   "source": [
    "# Подсчет метрики\n",
    "\n",
    "Метрика у нас оценивается \"с перекрытием\"(три человека на единицу разметки). В итоговую оценку НЕ включаются ответы \"три ответа разные\" и \"два ответа скип\". Для случая разметки \"без перекрытия\" мы просто берем случайные единицы, а потом для каждой из них - случайного асессора.\n"
   ]
  },
  {
   "cell_type": "code",
   "execution_count": 45,
   "id": "fe39c5be",
   "metadata": {},
   "outputs": [
    {
     "name": "stderr",
     "output_type": "stream",
     "text": [
      "100%|█████████████████████████████████████████| 1000/1000 [00:00<00:00, 4815.84it/s]\n"
     ]
    },
    {
     "data": {
      "image/png": "[encoded data removed]",
      "text/plain": [
       "<Figure size 640x480 with 1 Axes>"
      ]
     },
     "metadata": {},
     "output_type": "display_data"
    }
   ],
   "source": [
    "# Датасет для бутстрепа с перекрытием\n",
    "\n",
    "q = '''\n",
    "select dt,\n",
    "    parent_nm_id, duplicate_nm_id,\n",
    "    CASE WHEN count_if(answer = 'Дубликаты') >= 2 THEN 1\n",
    "        ELSE 0 END AS duplicate_flg,\n",
    "    CASE WHEN count(distinct answer) = 3\n",
    "        or count_if(answer = 'Скип') >= 2 THEN 1\n",
    "    ELSE 0 END AS problem_flg\n",
    "FROM df\n",
    "group by dt, parent_nm_id, duplicate_nm_id\n",
    "'''\n",
    "\n",
    "df_for_crossval_bootstrap = duckdb.query(q).to_df()\n",
    "\n",
    "# Датасет для бутстрепа с перекрытия это сам df\n",
    "\n",
    "\n",
    "def get_cross_val_bootstrap_result(df_, num_samples = 2000, num_bootstrap_samples=1000):\n",
    "    \n",
    "    result = []\n",
    "    for _ in tqdm(range(num_bootstrap_samples)):\n",
    "        sampled = df_.sample(num_samples, replace = True)\n",
    "        result.append(sampled[sampled['problem_flg'] == 0].duplicate_flg.mean())\n",
    "    return result\n",
    "\n",
    "\n",
    "crossval_bootstrap = get_cross_val_bootstrap_result(df_for_crossval_bootstrap)\n",
    "\n",
    "_ = plt.hist(crossval_bootstrap)"
   ]
  },
  {
   "cell_type": "code",
   "execution_count": 62,
   "id": "d53bc673",
   "metadata": {},
   "outputs": [],
   "source": [
    "def get_zero_cross_val_bootstrap_result(df_, num_samples = 2000, num_bootstrap_samples=1000):\n",
    "    \n",
    "    result = []\n",
    "    for _ in tqdm(range(num_bootstrap_samples)):\n",
    "        q = f'''\n",
    "            SELECT dt,\n",
    "                    parent_nm_id, duplicate_nm_id, \n",
    "                    answer,\n",
    "                    CASE WHEN answer = 'Дубликаты' THEN 1 ELSE 0 END AS duplicate_flg\n",
    "            FROM (select dt,\n",
    "                    parent_nm_id, duplicate_nm_id, answer,\n",
    "                    row_number() over (partition by dt, parent_nm_id, duplicate_nm_id\n",
    "                                     order by random()) as rn\n",
    "\n",
    "                FROM df\n",
    "                ) as a\n",
    "            WHERE rn = 1\n",
    "            ORDER BY random()\n",
    "            LIMIT {num_samples}\n",
    "            '''\n",
    "\n",
    "        sampled = duckdb.query(q).to_df()\n",
    "        (result\n",
    "         .append(sampled[sampled['answer'] != 'Скип']\n",
    "                 .duplicate_flg\n",
    "                 .mean())\n",
    "        )\n",
    "    return result"
   ]
  },
  {
   "cell_type": "code",
   "execution_count": 75,
   "id": "d5735482",
   "metadata": {},
   "outputs": [
    {
     "name": "stderr",
     "output_type": "stream",
     "text": [
      "100%|███████████████████████████████████████████| 1000/1000 [00:17<00:00, 55.80it/s]\n"
     ]
    }
   ],
   "source": [
    "no_crossval_bootstrap = get_zero_cross_val_bootstrap_result(df, num_samples = 4000)"
   ]
  },
  {
   "cell_type": "code",
   "execution_count": 76,
   "id": "9e5b87e8",
   "metadata": {},
   "outputs": [
    {
     "data": {
      "text/plain": [
       "<matplotlib.legend.Legend at 0x1757e6250>"
      ]
     },
     "execution_count": 76,
     "metadata": {},
     "output_type": "execute_result"
    },
    {
     "data": {
      "image/png": "[encoded data removed]",
      "text/plain": [
       "<Figure size 640x480 with 1 Axes>"
      ]
     },
     "metadata": {},
     "output_type": "display_data"
    }
   ],
   "source": [
    "_ = plt.hist(crossval_bootstrap, alpha = 0.5, label = 'С перекрытием')\n",
    "_ = plt.hist(no_crossval_bootstrap, alpha = 0.5, label = 'Без перекрытия')\n",
    "\n",
    "plt.legend()"
   ]
  },
  {
   "cell_type": "code",
   "execution_count": 83,
   "id": "a150a64f",
   "metadata": {},
   "outputs": [
    {
     "data": {
      "image/png": "[encoded data removed]",
      "text/plain": [
       "<Figure size 640x480 with 1 Axes>"
      ]
     },
     "metadata": {},
     "output_type": "display_data"
    }
   ],
   "source": [
    "q = np.quantile(np.array(crossval_bootstrap) - np.array(no_crossval_bootstrap), \n",
    "                 [0.025,0.975])\n",
    "_ = plt.hist(np.array(crossval_bootstrap) - np.array(no_crossval_bootstrap))\n",
    "_ = plt.vlines(q, ymin = 0, ymax = 300, color = 'red')"
   ]
  },
  {
   "cell_type": "code",
   "execution_count": null,
   "id": "1db50c06",
   "metadata": {},
   "outputs": [],
   "source": []
  }
 ],
 "metadata": {
  "kernelspec": {
   "display_name": "Python 3 (ipykernel)",
   "language": "python",
   "name": "python3"
  },
  "language_info": {
   "codemirror_mode": {
    "name": "ipython",
    "version": 3
   },
   "file_extension": ".py",
   "mimetype": "text/x-python",
   "name": "python",
   "nbconvert_exporter": "python",
   "pygments_lexer": "ipython3",
   "version": "3.11.8"
  }
 },
 "nbformat": 4,
 "nbformat_minor": 5
}
