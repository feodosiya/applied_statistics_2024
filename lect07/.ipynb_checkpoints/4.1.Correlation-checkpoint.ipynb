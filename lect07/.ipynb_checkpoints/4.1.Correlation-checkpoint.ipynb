{
 "cells": [
  {
   "cell_type": "markdown",
   "metadata": {},
   "source": [
    "## Корреляция"
   ]
  },
  {
   "cell_type": "markdown",
   "metadata": {},
   "source": [
    "Посмотрим, как считать изученные коэффициенты корреляции в Python"
   ]
  },
  {
   "cell_type": "code",
   "execution_count": 1,
   "metadata": {},
   "outputs": [],
   "source": [
    "# как обычно, начнем с импорта нужных библиотек\n",
    "import numpy as np\n",
    "import pandas as pd\n",
    "from scipy import stats\n",
    "import matplotlib.pyplot as plt\n",
    "%matplotlib inline"
   ]
  },
  {
   "cell_type": "code",
   "execution_count": 2,
   "metadata": {},
   "outputs": [],
   "source": [
    "# и зафиксируем seed\n",
    "np.random.seed(123)"
   ]
  },
  {
   "cell_type": "markdown",
   "metadata": {},
   "source": [
    "В файле **pressure.xls** приводятся для 15 пациентов данные о систолическом и диастолическом давлении крови непосредственно до принятия и спустя 2 часа после принятия 25 мг каптоприла. \n",
    "  \n",
    "Имеется ли связь между снижением систолического и диастолического давления? Вычислите все изученные коэфиициенты корреляции и проверьте их значимость. Есть ли среди данных выбросы? "
   ]
  },
  {
   "cell_type": "code",
   "execution_count": 6,
   "metadata": {},
   "outputs": [],
   "source": [
    "# сначала импортируем данные\n",
    "\n",
    "data = pd.read_excel('data/pressure.xls')"
   ]
  },
  {
   "cell_type": "code",
   "execution_count": 7,
   "metadata": {},
   "outputs": [
    {
     "data": {
      "text/html": [
       "<div>\n",
       "<style scoped>\n",
       "    .dataframe tbody tr th:only-of-type {\n",
       "        vertical-align: middle;\n",
       "    }\n",
       "\n",
       "    .dataframe tbody tr th {\n",
       "        vertical-align: top;\n",
       "    }\n",
       "\n",
       "    .dataframe thead th {\n",
       "        text-align: right;\n",
       "    }\n",
       "</style>\n",
       "<table border=\"1\" class=\"dataframe\">\n",
       "  <thead>\n",
       "    <tr style=\"text-align: right;\">\n",
       "      <th></th>\n",
       "      <th>СистДо</th>\n",
       "      <th>СистПосл</th>\n",
       "      <th>ДиасДо</th>\n",
       "      <th>ДиасПосл</th>\n",
       "    </tr>\n",
       "  </thead>\n",
       "  <tbody>\n",
       "    <tr>\n",
       "      <th>0</th>\n",
       "      <td>210</td>\n",
       "      <td>201</td>\n",
       "      <td>130</td>\n",
       "      <td>125</td>\n",
       "    </tr>\n",
       "    <tr>\n",
       "      <th>1</th>\n",
       "      <td>169</td>\n",
       "      <td>165</td>\n",
       "      <td>122</td>\n",
       "      <td>121</td>\n",
       "    </tr>\n",
       "    <tr>\n",
       "      <th>2</th>\n",
       "      <td>187</td>\n",
       "      <td>166</td>\n",
       "      <td>124</td>\n",
       "      <td>121</td>\n",
       "    </tr>\n",
       "    <tr>\n",
       "      <th>3</th>\n",
       "      <td>160</td>\n",
       "      <td>157</td>\n",
       "      <td>104</td>\n",
       "      <td>106</td>\n",
       "    </tr>\n",
       "    <tr>\n",
       "      <th>4</th>\n",
       "      <td>167</td>\n",
       "      <td>174</td>\n",
       "      <td>112</td>\n",
       "      <td>100</td>\n",
       "    </tr>\n",
       "    <tr>\n",
       "      <th>5</th>\n",
       "      <td>176</td>\n",
       "      <td>145</td>\n",
       "      <td>103</td>\n",
       "      <td>85</td>\n",
       "    </tr>\n",
       "    <tr>\n",
       "      <th>6</th>\n",
       "      <td>185</td>\n",
       "      <td>168</td>\n",
       "      <td>121</td>\n",
       "      <td>98</td>\n",
       "    </tr>\n",
       "    <tr>\n",
       "      <th>7</th>\n",
       "      <td>206</td>\n",
       "      <td>180</td>\n",
       "      <td>124</td>\n",
       "      <td>105</td>\n",
       "    </tr>\n",
       "    <tr>\n",
       "      <th>8</th>\n",
       "      <td>173</td>\n",
       "      <td>147</td>\n",
       "      <td>115</td>\n",
       "      <td>103</td>\n",
       "    </tr>\n",
       "    <tr>\n",
       "      <th>9</th>\n",
       "      <td>146</td>\n",
       "      <td>136</td>\n",
       "      <td>100</td>\n",
       "      <td>98</td>\n",
       "    </tr>\n",
       "    <tr>\n",
       "      <th>10</th>\n",
       "      <td>174</td>\n",
       "      <td>151</td>\n",
       "      <td>98</td>\n",
       "      <td>90</td>\n",
       "    </tr>\n",
       "    <tr>\n",
       "      <th>11</th>\n",
       "      <td>201</td>\n",
       "      <td>168</td>\n",
       "      <td>119</td>\n",
       "      <td>98</td>\n",
       "    </tr>\n",
       "    <tr>\n",
       "      <th>12</th>\n",
       "      <td>198</td>\n",
       "      <td>179</td>\n",
       "      <td>106</td>\n",
       "      <td>110</td>\n",
       "    </tr>\n",
       "    <tr>\n",
       "      <th>13</th>\n",
       "      <td>148</td>\n",
       "      <td>129</td>\n",
       "      <td>107</td>\n",
       "      <td>103</td>\n",
       "    </tr>\n",
       "    <tr>\n",
       "      <th>14</th>\n",
       "      <td>154</td>\n",
       "      <td>131</td>\n",
       "      <td>100</td>\n",
       "      <td>82</td>\n",
       "    </tr>\n",
       "  </tbody>\n",
       "</table>\n",
       "</div>"
      ],
      "text/plain": [
       "    СистДо  СистПосл  ДиасДо  ДиасПосл\n",
       "0      210       201     130       125\n",
       "1      169       165     122       121\n",
       "2      187       166     124       121\n",
       "3      160       157     104       106\n",
       "4      167       174     112       100\n",
       "5      176       145     103        85\n",
       "6      185       168     121        98\n",
       "7      206       180     124       105\n",
       "8      173       147     115       103\n",
       "9      146       136     100        98\n",
       "10     174       151      98        90\n",
       "11     201       168     119        98\n",
       "12     198       179     106       110\n",
       "13     148       129     107       103\n",
       "14     154       131     100        82"
      ]
     },
     "execution_count": 7,
     "metadata": {},
     "output_type": "execute_result"
    }
   ],
   "source": [
    "data"
   ]
  },
  {
   "cell_type": "code",
   "execution_count": 8,
   "metadata": {},
   "outputs": [],
   "source": [
    "DP1 = data[\"СистДо\"] - data[\"СистПосл\"]\n",
    "DP2 = data[\"ДиасДо\"] - data[\"ДиасПосл\"]"
   ]
  },
  {
   "cell_type": "code",
   "execution_count": 9,
   "metadata": {},
   "outputs": [
    {
     "data": {
      "image/png": "[encoded data removed]",
      "text/plain": [
       "<Figure size 640x480 with 1 Axes>"
      ]
     },
     "metadata": {},
     "output_type": "display_data"
    }
   ],
   "source": [
    "# посмотрим на данные\n",
    "\n",
    "plt.scatter(DP1, DP2)\n",
    "plt.show()"
   ]
  },
  {
   "cell_type": "code",
   "execution_count": 10,
   "metadata": {},
   "outputs": [
    {
     "data": {
      "text/plain": [
       "PearsonRResult(statistic=0.4950489229547466, pvalue=0.06062278606988298)"
      ]
     },
     "execution_count": 10,
     "metadata": {},
     "output_type": "execute_result"
    }
   ],
   "source": [
    "# коэффициент корреляции Пирсона\n",
    "\n",
    "stats.pearsonr(DP1,DP2)"
   ]
  },
  {
   "cell_type": "code",
   "execution_count": 26,
   "metadata": {},
   "outputs": [],
   "source": [
    "x = np.random.rand(1000)*10\n",
    "y = np.concatenate([x[:-1],np.array([1000])])"
   ]
  },
  {
   "cell_type": "code",
   "execution_count": 31,
   "metadata": {},
   "outputs": [
    {
     "data": {
      "image/png": "[encoded data removed]",
      "text/plain": [
       "<Figure size 432x288 with 1 Axes>"
      ]
     },
     "metadata": {
      "needs_background": "light"
     },
     "output_type": "display_data"
    }
   ],
   "source": [
    "plt.scatter(x, y)\n",
    "plt.show()"
   ]
  },
  {
   "cell_type": "code",
   "execution_count": 29,
   "metadata": {},
   "outputs": [
    {
     "data": {
      "text/plain": [
       "(0.12555025376545986, 6.861319216334119e-05)"
      ]
     },
     "execution_count": 29,
     "metadata": {},
     "output_type": "execute_result"
    }
   ],
   "source": [
    "stats.pearsonr(x,y)"
   ]
  },
  {
   "cell_type": "code",
   "execution_count": 11,
   "metadata": {},
   "outputs": [
    {
     "data": {
      "text/plain": [
       "SignificanceResult(statistic=0.5560540352929466, pvalue=0.03136092274689518)"
      ]
     },
     "execution_count": 11,
     "metadata": {},
     "output_type": "execute_result"
    }
   ],
   "source": [
    "# коэффициент корреляции Спирмена\n",
    "\n",
    "stats.spearmanr(DP1,DP2)"
   ]
  },
  {
   "cell_type": "code",
   "execution_count": 12,
   "metadata": {},
   "outputs": [
    {
     "data": {
      "text/plain": [
       "SignificanceResult(statistic=0.4487858273467833, pvalue=0.022003125837031883)"
      ]
     },
     "execution_count": 12,
     "metadata": {},
     "output_type": "execute_result"
    }
   ],
   "source": [
    "# коэффициент корреляции Кендалла\n",
    "\n",
    "stats.kendalltau(DP1,DP2)"
   ]
  },
  {
   "cell_type": "markdown",
   "metadata": {},
   "source": [
    "Давайте уберем одну точку, которая нам кажется выбросом и посмотрим, что случится с коэффициентами корреляции. У этой точки отрицательные изменения в DP1."
   ]
  },
  {
   "cell_type": "code",
   "execution_count": 15,
   "metadata": {},
   "outputs": [],
   "source": [
    "data_new = data[DP1>0]\n",
    "\n",
    "DP1_new = data_new[\"СистДо\"] - data_new[\"СистПосл\"]\n",
    "DP2_new = data_new[\"ДиасДо\"] - data_new[\"ДиасПосл\"]"
   ]
  },
  {
   "cell_type": "code",
   "execution_count": 16,
   "metadata": {},
   "outputs": [
    {
     "data": {
      "image/png": "[encoded data removed]",
      "text/plain": [
       "<Figure size 432x288 with 1 Axes>"
      ]
     },
     "metadata": {
      "needs_background": "light"
     },
     "output_type": "display_data"
    }
   ],
   "source": [
    "# еще раз посмотрим на данные\n",
    "\n",
    "plt.scatter(DP1_new, DP2_new)\n",
    "plt.show()"
   ]
  },
  {
   "cell_type": "code",
   "execution_count": 17,
   "metadata": {},
   "outputs": [
    {
     "data": {
      "text/plain": [
       "(0.679798781076268, 0.0074792869569106695)"
      ]
     },
     "execution_count": 17,
     "metadata": {},
     "output_type": "execute_result"
    }
   ],
   "source": [
    "# коэффициент корреляции Пирсона\n",
    "\n",
    "stats.pearsonr(DP1_new,DP2_new)"
   ]
  },
  {
   "cell_type": "code",
   "execution_count": null,
   "metadata": {},
   "outputs": [],
   "source": [
    "# коэффициент корреляции Спирмена\n",
    "\n",
    "stats.spearmanr(DP1_new,DP2_new)"
   ]
  },
  {
   "cell_type": "code",
   "execution_count": null,
   "metadata": {},
   "outputs": [],
   "source": [
    "# коэффициент корреляции Кендалла\n",
    "\n",
    "stats.kendalltau(DP1_new,DP2_new)"
   ]
  },
  {
   "cell_type": "code",
   "execution_count": 51,
   "metadata": {},
   "outputs": [],
   "source": [
    "x = np.random.normal(1,3, size = (10000,1000))\n",
    "\n",
    "a = np.random.normal(2,5, size = 1000)\n",
    "b = np.random.normal(3,5, size = 1000)\n",
    "\n",
    "\n",
    "\n",
    "# y = "
   ]
  },
  {
   "cell_type": "code",
   "execution_count": null,
   "metadata": {},
   "outputs": [],
   "source": []
  },
  {
   "cell_type": "code",
   "execution_count": 18,
   "metadata": {},
   "outputs": [],
   "source": [
    "x = np.zeros(shape = (2,3))\n",
    "\n",
    "x[0,0] = 1\n",
    "x[1,2] = 1\n",
    "x[1,1] = 1"
   ]
  },
  {
   "cell_type": "code",
   "execution_count": 27,
   "metadata": {},
   "outputs": [
    {
     "data": {
      "text/plain": [
       "array([[2., 1.],\n",
       "       [1., 3.],\n",
       "       [1., 4.]])"
      ]
     },
     "execution_count": 27,
     "metadata": {},
     "output_type": "execute_result"
    }
   ],
   "source": []
  },
  {
   "cell_type": "code",
   "execution_count": 58,
   "metadata": {},
   "outputs": [],
   "source": [
    "pseudolinear  = x*a+b + np.random.normal(0,1, size = (10000,1000))"
   ]
  },
  {
   "cell_type": "code",
   "execution_count": 48,
   "metadata": {},
   "outputs": [
    {
     "data": {
      "text/plain": [
       "1.841390937473234"
      ]
     },
     "execution_count": 48,
     "metadata": {},
     "output_type": "execute_result"
    }
   ],
   "source": [
    "a.std()"
   ]
  },
  {
   "cell_type": "code",
   "execution_count": 59,
   "metadata": {},
   "outputs": [
    {
     "data": {
      "image/png": "[encoded data removed]",
      "text/plain": [
       "<Figure size 640x480 with 1 Axes>"
      ]
     },
     "metadata": {},
     "output_type": "display_data"
    }
   ],
   "source": [
    "plt.scatter(pseudolinear[:,0], x[:,0])\n",
    "plt.show()"
   ]
  },
  {
   "cell_type": "code",
   "execution_count": null,
   "metadata": {},
   "outputs": [],
   "source": [
    "pseudolinear[:,0], x[:,0]"
   ]
  },
  {
   "cell_type": "code",
   "execution_count": 69,
   "metadata": {},
   "outputs": [],
   "source": [
    "sp = [stats.spearmanr(pseudolinear[:,i], x[:,i]).statistic for i in range(1000)]\n",
    "pearson = [stats.pearsonr(pseudolinear[:,i], x[:,i]).statistic for i in range(1000)]\n",
    "kendall = [stats.kendalltau(pseudolinear[:,i], x[:,i]).statistic for i in range(1000)]"
   ]
  },
  {
   "cell_type": "code",
   "execution_count": 71,
   "metadata": {},
   "outputs": [
    {
     "data": {
      "image/png": "[encoded data removed]",
      "text/plain": [
       "<Figure size 640x480 with 1 Axes>"
      ]
     },
     "metadata": {},
     "output_type": "display_data"
    }
   ],
   "source": [
    "plt.scatter(sp, kendall)\n",
    "plt.show()"
   ]
  },
  {
   "cell_type": "code",
   "execution_count": 73,
   "metadata": {},
   "outputs": [],
   "source": [
    "stats.spearmanr??"
   ]
  },
  {
   "cell_type": "code",
   "execution_count": 75,
   "metadata": {},
   "outputs": [],
   "source": [
    "stats.mannwhitneyu??"
   ]
  },
  {
   "cell_type": "code",
   "execution_count": 84,
   "metadata": {},
   "outputs": [],
   "source": [
    "plt.hist??"
   ]
  },
  {
   "cell_type": "code",
   "execution_count": 87,
   "metadata": {},
   "outputs": [
    {
     "data": {
      "image/png": "[encoded data removed]",
      "text/plain": [
       "<Figure size 640x480 with 1 Axes>"
      ]
     },
     "metadata": {},
     "output_type": "display_data"
    }
   ],
   "source": [
    "plt.hist(np.random.beta(100,100, size = 1000))\n",
    "plt.hist(np.random.beta(10,10, size = 1000), alpha = 0.5)\n",
    "plt.show()"
   ]
  },
  {
   "cell_type": "markdown",
   "metadata": {},
   "source": [
    "# Доля правильного выбора в зависимости от шага"
   ]
  },
  {
   "cell_type": "code",
   "execution_count": 89,
   "metadata": {},
   "outputs": [],
   "source": [
    "p1, p2 = 0.2, 0.3\n",
    "\n",
    "a1, b1 = 1, 1\n",
    "a2, b2 = 1, 1\n",
    "\n",
    "\n"
   ]
  },
  {
   "cell_type": "code",
   "execution_count": 137,
   "metadata": {},
   "outputs": [],
   "source": [
    "def generate_beta_sequence(p1 = 0.2, p2 = 0.3, a1 = 1, b1 = 1, a2 = 1, b2 = 1, num_iterations = 1000):\n",
    "    \n",
    "    outcome_num_list = []\n",
    "    outcome_list = []\n",
    "\n",
    "    for _ in range(num_iterations):\n",
    "        theta1 = np.random.beta(a1, b1)\n",
    "        theta2 = np.random.beta(a2, b2)\n",
    "\n",
    "        if theta1>theta2:\n",
    "            outcome = np.random.binomial(1, p1)\n",
    "            outcome_num_list.append(0)\n",
    "            if outcome == 1:\n",
    "                a1+=1\n",
    "            else:\n",
    "                b1+=1\n",
    "        else:\n",
    "            outcome = np.random.binomial(1, p2)\n",
    "            outcome_num_list.append(1)\n",
    "            if outcome == 1:\n",
    "                a2+=1\n",
    "            else:\n",
    "                b2+=1\n",
    "\n",
    "        outcome_list.append(outcome)\n",
    "\n",
    "    return np.array(outcome_num_list)"
   ]
  },
  {
   "cell_type": "code",
   "execution_count": 138,
   "metadata": {},
   "outputs": [],
   "source": [
    "# np.random.binomial??"
   ]
  },
  {
   "cell_type": "code",
   "execution_count": 139,
   "metadata": {},
   "outputs": [],
   "source": [
    "from tqdm import tqdm"
   ]
  },
  {
   "cell_type": "code",
   "execution_count": 147,
   "metadata": {
    "scrolled": false
   },
   "outputs": [
    {
     "name": "stderr",
     "output_type": "stream",
     "text": [
      "100%|█████████████████████████████████████████| 500/500 [00:07<00:00, 63.25it/s]\n"
     ]
    }
   ],
   "source": [
    "outcome_num_list2 = generate_beta_sequence(p1 = 0.295, p2 = 0.3, num_iterations = 10000)\n",
    "\n",
    "for i in tqdm(range(500)):\n",
    "    outcome_num_list2 = np.vstack([outcome_num_list2, generate_beta_sequence(p1 = 0.295, p2 = 0.3, num_iterations = 10000)])"
   ]
  },
  {
   "cell_type": "code",
   "execution_count": 148,
   "metadata": {},
   "outputs": [
    {
     "data": {
      "image/png": "[encoded data removed]",
      "text/plain": [
       "<Figure size 640x480 with 1 Axes>"
      ]
     },
     "metadata": {},
     "output_type": "display_data"
    }
   ],
   "source": [
    "plt.plot(outcome_num_list2.mean(axis = 0))\n",
    "plt.show()"
   ]
  },
  {
   "cell_type": "code",
   "execution_count": null,
   "metadata": {},
   "outputs": [],
   "source": []
  },
  {
   "cell_type": "code",
   "execution_count": null,
   "metadata": {},
   "outputs": [],
   "source": []
  },
  {
   "cell_type": "code",
   "execution_count": null,
   "metadata": {},
   "outputs": [],
   "source": []
  },
  {
   "cell_type": "markdown",
   "metadata": {},
   "source": [
    "**Вывод** в этой задаче мы делаем следующий: снижение систолического и диастолического давления положительно коррелированы. И эта корреляция значима. Кроме того, мы лишний раз убедились в том, что коэффициент корреляции Пирсона подвержен сильному влиянию выбросов. "
   ]
  }
 ],
 "metadata": {
  "kernelspec": {
   "display_name": "Python 3 (ipykernel)",
   "language": "python",
   "name": "python3"
  },
  "language_info": {
   "codemirror_mode": {
    "name": "ipython",
    "version": 3
   },
   "file_extension": ".py",
   "mimetype": "text/x-python",
   "name": "python",
   "nbconvert_exporter": "python",
   "pygments_lexer": "ipython3",
   "version": "3.11.8"
  }
 },
 "nbformat": 4,
 "nbformat_minor": 2
}
