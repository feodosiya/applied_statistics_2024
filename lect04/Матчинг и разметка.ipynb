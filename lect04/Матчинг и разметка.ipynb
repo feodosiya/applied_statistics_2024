{
 "cells": [
  {
   "cell_type": "code",
   "execution_count": 84,
   "id": "461f0b39",
   "metadata": {},
   "outputs": [],
   "source": [
    "import pandas as pd\n",
    "import numpy as np\n",
    "import matplotlib.pyplot as plt\n",
    "from tqdm import tqdm\n",
    "import duckdb"
   ]
  },
  {
   "cell_type": "markdown",
   "id": "7c2db975",
   "metadata": {},
   "source": [
    "# Дано\n",
    "\n",
    "Дан датасет с результатами асессорской разметки качества модели поиска дубликатов на маркетплейсе. В поле **answer** - результат сравнения карточек **parent_nm_id** и **duplicate_nm_id**. Пару карточек размечают на предмет \"являются ли они дубликатами\". Карточка - страница товара на маркетплейсе, например [так](https://www.wildberries.ru/catalog/231948542/detail.aspx). Некоторые товары может продавать несколько разных продавцов (пример покажу). Чтобы идентифицировать такое, есть модель поиска дубликатов, ее-то мы и будем оценивать. Каждую пару **parent_nm_id** и **duplicate_nm_id** оценивает три различных человека (такое называют \"разметкой с перекрытием 3\"), маркируются они по **executor_login**. Итоговый ответ выбирается путем простого голосования.\n"
   ]
  },
  {
   "cell_type": "code",
   "execution_count": 85,
   "id": "f83b5616",
   "metadata": {},
   "outputs": [
    {
     "data": {
      "text/html": [
       "<div>\n",
       "<style scoped>\n",
       "    .dataframe tbody tr th:only-of-type {\n",
       "        vertical-align: middle;\n",
       "    }\n",
       "\n",
       "    .dataframe tbody tr th {\n",
       "        vertical-align: top;\n",
       "    }\n",
       "\n",
       "    .dataframe thead th {\n",
       "        text-align: right;\n",
       "    }\n",
       "</style>\n",
       "<table border=\"1\" class=\"dataframe\">\n",
       "  <thead>\n",
       "    <tr style=\"text-align: right;\">\n",
       "      <th></th>\n",
       "      <th>dt</th>\n",
       "      <th>group_id</th>\n",
       "      <th>parent_nm_id</th>\n",
       "      <th>duplicate_nm_id</th>\n",
       "      <th>bucket_id</th>\n",
       "      <th>executor_login</th>\n",
       "      <th>answer</th>\n",
       "      <th>comment</th>\n",
       "    </tr>\n",
       "  </thead>\n",
       "  <tbody>\n",
       "    <tr>\n",
       "      <th>0</th>\n",
       "      <td>2024-05-03</td>\n",
       "      <td>v1_2024-05-02</td>\n",
       "      <td>d32cb006dc6fe51a8711656978f2fd6d</td>\n",
       "      <td>b54983c6c3c93f0d6e1a1796115c868f</td>\n",
       "      <td>3,4,5</td>\n",
       "      <td>2e135b08d65255fc4c0386c0c471a0b3</td>\n",
       "      <td>Дубликаты</td>\n",
       "      <td>NaN</td>\n",
       "    </tr>\n",
       "    <tr>\n",
       "      <th>1</th>\n",
       "      <td>2024-05-03</td>\n",
       "      <td>v1_2024-05-02</td>\n",
       "      <td>d32cb006dc6fe51a8711656978f2fd6d</td>\n",
       "      <td>b54983c6c3c93f0d6e1a1796115c868f</td>\n",
       "      <td>3,4,5</td>\n",
       "      <td>f028c5ec87044b4b7c7670bea1780ae5</td>\n",
       "      <td>Дубликаты</td>\n",
       "      <td>NaN</td>\n",
       "    </tr>\n",
       "    <tr>\n",
       "      <th>2</th>\n",
       "      <td>2024-05-03</td>\n",
       "      <td>v1_2024-05-02</td>\n",
       "      <td>d32cb006dc6fe51a8711656978f2fd6d</td>\n",
       "      <td>b54983c6c3c93f0d6e1a1796115c868f</td>\n",
       "      <td>3,4,5</td>\n",
       "      <td>4242a2448d1e903afaa66da1c8a83390</td>\n",
       "      <td>Дубликаты</td>\n",
       "      <td>NaN</td>\n",
       "    </tr>\n",
       "    <tr>\n",
       "      <th>3</th>\n",
       "      <td>2024-05-03</td>\n",
       "      <td>v1_2024-05-02</td>\n",
       "      <td>9177fd909644e4466b81be0544afbe95</td>\n",
       "      <td>2cc66fc06ceddeb5a7355279c420fec7</td>\n",
       "      <td>1,2</td>\n",
       "      <td>34dceb77fd160d53131640504274a25b</td>\n",
       "      <td>Скип</td>\n",
       "      <td>NaN</td>\n",
       "    </tr>\n",
       "    <tr>\n",
       "      <th>4</th>\n",
       "      <td>2024-05-03</td>\n",
       "      <td>v1_2024-05-02</td>\n",
       "      <td>9177fd909644e4466b81be0544afbe95</td>\n",
       "      <td>2cc66fc06ceddeb5a7355279c420fec7</td>\n",
       "      <td>1,2</td>\n",
       "      <td>34dceb77fd160d53131640504274a25b</td>\n",
       "      <td>Дубликаты</td>\n",
       "      <td>NaN</td>\n",
       "    </tr>\n",
       "  </tbody>\n",
       "</table>\n",
       "</div>"
      ],
      "text/plain": [
       "           dt       group_id                      parent_nm_id  \\\n",
       "0  2024-05-03  v1_2024-05-02  d32cb006dc6fe51a8711656978f2fd6d   \n",
       "1  2024-05-03  v1_2024-05-02  d32cb006dc6fe51a8711656978f2fd6d   \n",
       "2  2024-05-03  v1_2024-05-02  d32cb006dc6fe51a8711656978f2fd6d   \n",
       "3  2024-05-03  v1_2024-05-02  9177fd909644e4466b81be0544afbe95   \n",
       "4  2024-05-03  v1_2024-05-02  9177fd909644e4466b81be0544afbe95   \n",
       "\n",
       "                    duplicate_nm_id bucket_id  \\\n",
       "0  b54983c6c3c93f0d6e1a1796115c868f     3,4,5   \n",
       "1  b54983c6c3c93f0d6e1a1796115c868f     3,4,5   \n",
       "2  b54983c6c3c93f0d6e1a1796115c868f     3,4,5   \n",
       "3  2cc66fc06ceddeb5a7355279c420fec7       1,2   \n",
       "4  2cc66fc06ceddeb5a7355279c420fec7       1,2   \n",
       "\n",
       "                     executor_login     answer comment  \n",
       "0  2e135b08d65255fc4c0386c0c471a0b3  Дубликаты     NaN  \n",
       "1  f028c5ec87044b4b7c7670bea1780ae5  Дубликаты     NaN  \n",
       "2  4242a2448d1e903afaa66da1c8a83390  Дубликаты     NaN  \n",
       "3  34dceb77fd160d53131640504274a25b       Скип     NaN  \n",
       "4  34dceb77fd160d53131640504274a25b  Дубликаты     NaN  "
      ]
     },
     "execution_count": 85,
     "metadata": {},
     "output_type": "execute_result"
    }
   ],
   "source": [
    "# открыли файл с разметками\n",
    "df = pd.read_csv('duplicates_matching.csv')\n",
    "df.head()"
   ]
  },
  {
   "cell_type": "code",
   "execution_count": 86,
   "id": "bbd8d34f",
   "metadata": {},
   "outputs": [
    {
     "data": {
      "text/plain": [
       "array(['Дубликаты', 'Скип', 'Не дубликаты'], dtype=object)"
      ]
     },
     "execution_count": 86,
     "metadata": {},
     "output_type": "execute_result"
    }
   ],
   "source": [
    "#  Какие есть типы ответов\n",
    "df.answer.unique()"
   ]
  },
  {
   "cell_type": "code",
   "execution_count": 87,
   "id": "183b3a7f",
   "metadata": {},
   "outputs": [
    {
     "data": {
      "text/plain": [
       "(31859, 8)"
      ]
     },
     "execution_count": 87,
     "metadata": {},
     "output_type": "execute_result"
    }
   ],
   "source": [
    "# Скипы уберем\n",
    "df[df.answer!= 'Скип'].shape"
   ]
  },
  {
   "cell_type": "code",
   "execution_count": 88,
   "id": "78751738",
   "metadata": {},
   "outputs": [
    {
     "data": {
      "image/png": "[encoded data removed]",
      "text/plain": [
       "<Figure size 640x480 with 1 Axes>"
      ]
     },
     "metadata": {},
     "output_type": "display_data"
    }
   ],
   "source": [
    "# Доля дубликатов в разметке по дням\n",
    "\n",
    "q = '''\n",
    "SELECT dt, avg(duplicate_flg) as duplicate_ratio\n",
    "FROM (select dt,\n",
    "        parent_nm_id, duplicate_nm_id,\n",
    "        CASE WHEN count_if(answer = 'Дубликаты') >= 2 THEN 1\n",
    "            ELSE 0 END AS duplicate_flg\n",
    "    FROM df\n",
    "    group by dt, parent_nm_id, duplicate_nm_id\n",
    "    having count(distinct answer) != 3\n",
    "        and count_if(answer = 'Скип') < 2\n",
    "    ) as a\n",
    "GROUP BY dt\n",
    "ORDER BY dt\n",
    "'''\n",
    "\n",
    "\n",
    "_ = duckdb.query(q).to_df().plot(ylim = (0,1))"
   ]
  },
  {
   "cell_type": "markdown",
   "id": "7d0b5562",
   "metadata": {},
   "source": [
    "# Подсчет метрики\n",
    "\n",
    "Метрика у нас оценивается \"с перекрытием\"(три человека на единицу разметки). В итоговую оценку НЕ включаются ответы \"три ответа разные\" и \"два ответа скип\". Для случая разметки \"без перекрытия\" мы просто берем случайные единицы, а потом для каждой из них - случайного асессора.\n",
    "\n",
    "\n",
    "# Задание\n",
    "\n",
    "С помощью непараметрического бутстрепа постройте доверительный интервал для разницы долей ответов \"Дубликаты\" в случае оценки метрики на выборке размера 2500 с перекрытием и на метрике 5000 - без перекрытия. \n",
    "\n",
    "\\+ пояснение будет дано на лекции :)\n",
    "\n",
    "# P.S. Это АБСОЛЮТНО реальная задача на абсолютно реальных данных\n"
   ]
  },
  {
   "cell_type": "code",
   "execution_count": null,
   "id": "b62907a8",
   "metadata": {},
   "outputs": [],
   "source": []
  }
 ],
 "metadata": {
  "kernelspec": {
   "display_name": "Python 3 (ipykernel)",
   "language": "python",
   "name": "python3"
  },
  "language_info": {
   "codemirror_mode": {
    "name": "ipython",
    "version": 3
   },
   "file_extension": ".py",
   "mimetype": "text/x-python",
   "name": "python",
   "nbconvert_exporter": "python",
   "pygments_lexer": "ipython3",
   "version": "3.11.8"
  }
 },
 "nbformat": 4,
 "nbformat_minor": 5
}
